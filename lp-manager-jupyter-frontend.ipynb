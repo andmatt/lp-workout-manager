{
 "cells": [
  {
   "cell_type": "markdown",
   "metadata": {},
   "source": [
    "## LP Workout Manager\n",
    "author = ['Matt Guan']"
   ]
  },
  {
   "cell_type": "markdown",
   "metadata": {},
   "source": [
    "### Inputs "
   ]
  },
  {
   "cell_type": "code",
   "execution_count": 1,
   "metadata": {
    "collapsed": true
   },
   "outputs": [],
   "source": [
    "from io import StringIO\n",
    "import sqlite3\n",
    "\n",
    "import numpy as np\n",
    "import pandas as pd\n",
    "\n",
    "from workout_maker import WorkoutMaker\n",
    "from functions.db_funcs import get_db_con, create_db"
   ]
  },
  {
   "cell_type": "markdown",
   "metadata": {},
   "source": [
    "__Create Tables if they Don't Exist__"
   ]
  },
  {
   "cell_type": "code",
   "execution_count": 2,
   "metadata": {
    "collapsed": true
   },
   "outputs": [],
   "source": [
    "con = get_db_con(db='workout.db')\n",
    "create_db(con)"
   ]
  },
  {
   "cell_type": "code",
   "execution_count": 3,
   "metadata": {
    "collapsed": true
   },
   "outputs": [],
   "source": [
    "import datetime\n",
    "from functions.dt_funcs import now\n",
    "import json"
   ]
  },
  {
   "cell_type": "markdown",
   "metadata": {},
   "source": [
    "__initialize module__"
   ]
  },
  {
   "cell_type": "code",
   "execution_count": 4,
   "metadata": {},
   "outputs": [
    {
     "name": "stdout",
     "output_type": "stream",
     "text": [
      "Welcome back Matt Guan!\n"
     ]
    }
   ],
   "source": [
    "workout = WorkoutMaker(con, 'Matt Guan', 'email@email.com')"
   ]
  },
  {
   "cell_type": "markdown",
   "metadata": {},
   "source": [
    "### __First Run Only__\n",
    "Enter your workout inputs here..\n",
    "* `accessory` : pandas df containing accessory workout weights\n",
    "* `prog` : dict containing monthly progression weight for each main workout\n",
    "* `orm` : dict containing one rep max weights for each main workout\n",
    "\n",
    "<div class=\"alert alert-info\">\n",
    "  <strong>Note:</strong> You only need to run this part if it is your first run OR you want to update something.\n",
    "</div>"
   ]
  },
  {
   "cell_type": "code",
   "execution_count": 5,
   "metadata": {
    "collapsed": true
   },
   "outputs": [],
   "source": [
    "s = '''\n",
    "me_name\tae_name\tae_weight\tsets\treps\n",
    "deadlift\tRows\t100\t4\t10\n",
    "deadlift\tPullups\t0\t4\t10\n",
    "deadlift\tCurls\t30\t4\t10\n",
    "deadlift\tBack Extension\t225\t4\t10\n",
    "squat\tLeg Press\t290\t4\t10\n",
    "squat\tLying Leg Curl\t85\t4\t10\n",
    "squat\tCalf Raise\t225\t4\t10\n",
    "squat\tHip Abd/Add-uction\t250\t4\t10\n",
    "bench\tDips\t0\t4\t10\n",
    "bench\tIncline D.Bell Press\t45\t4\t10\n",
    "bench\tCable Tricep Ext.\t42.5\t4\t10\n",
    "bench\tMachine Pec Fly\t100\t4\t10\n",
    "ohp\tSitting D.Bell Press\t50\t5\t5\n",
    "ohp\tCable Rear Delt Fly\t25\t4\t10\n",
    "ohp\tMachine Rear Delt Fly\t70\t4\t10\n",
    "ohp\tMachine Lat Raise\t60\t4\t10\n",
    "'''\n",
    "accessory = pd.read_csv(StringIO(s), sep='\\t')\n",
    "\n",
    "prog = {'squat':2.5 , 'deadlift':2.5, 'ohp':0, 'bench':2.5}\n",
    "orm = {'squat':240 , 'deadlift':290, 'ohp':127.5, 'bench':182.5}"
   ]
  },
  {
   "cell_type": "code",
   "execution_count": 6,
   "metadata": {},
   "outputs": [
    {
     "name": "stdout",
     "output_type": "stream",
     "text": [
      "2018-06-17 16:34:11,154 | INFO | dataframe is valid - accessory populated\n"
     ]
    },
    {
     "data": {
      "text/html": [
       "<div>\n",
       "<table border=\"1\" class=\"dataframe\">\n",
       "  <thead>\n",
       "    <tr style=\"text-align: right;\">\n",
       "      <th></th>\n",
       "      <th>me_name</th>\n",
       "      <th>ae_name</th>\n",
       "      <th>ae_weight</th>\n",
       "      <th>sets</th>\n",
       "      <th>reps</th>\n",
       "      <th>user_id</th>\n",
       "      <th>publish_time</th>\n",
       "    </tr>\n",
       "  </thead>\n",
       "  <tbody>\n",
       "    <tr>\n",
       "      <th>0</th>\n",
       "      <td>deadlift</td>\n",
       "      <td>Rows</td>\n",
       "      <td>100.0</td>\n",
       "      <td>4</td>\n",
       "      <td>10</td>\n",
       "      <td>1</td>\n",
       "      <td>2018-06-17 16:34:11.144943</td>\n",
       "    </tr>\n",
       "    <tr>\n",
       "      <th>1</th>\n",
       "      <td>deadlift</td>\n",
       "      <td>Pullups</td>\n",
       "      <td>0.0</td>\n",
       "      <td>4</td>\n",
       "      <td>10</td>\n",
       "      <td>1</td>\n",
       "      <td>2018-06-17 16:34:11.144943</td>\n",
       "    </tr>\n",
       "    <tr>\n",
       "      <th>2</th>\n",
       "      <td>deadlift</td>\n",
       "      <td>Curls</td>\n",
       "      <td>30.0</td>\n",
       "      <td>4</td>\n",
       "      <td>10</td>\n",
       "      <td>1</td>\n",
       "      <td>2018-06-17 16:34:11.144943</td>\n",
       "    </tr>\n",
       "  </tbody>\n",
       "</table>\n",
       "</div>"
      ],
      "text/plain": [
       "    me_name  ae_name  ae_weight  sets  reps  user_id  \\\n",
       "0  deadlift     Rows      100.0     4    10        1   \n",
       "1  deadlift  Pullups        0.0     4    10        1   \n",
       "2  deadlift    Curls       30.0     4    10        1   \n",
       "\n",
       "                publish_time  \n",
       "0 2018-06-17 16:34:11.144943  \n",
       "1 2018-06-17 16:34:11.144943  \n",
       "2 2018-06-17 16:34:11.144943  "
      ]
     },
     "execution_count": 6,
     "metadata": {},
     "output_type": "execute_result"
    }
   ],
   "source": [
    "workout.set_accessory(accessory)"
   ]
  },
  {
   "cell_type": "code",
   "execution_count": 7,
   "metadata": {},
   "outputs": [
    {
     "name": "stdout",
     "output_type": "stream",
     "text": [
      "2018-06-17 16:34:11,419 | INFO | duplicate entry deleted\n",
      "2018-06-17 16:34:11,425 | INFO | new entry loaded\n",
      "2018-06-17 16:34:11,438 | INFO | dict is valid - dim_progression populated\n"
     ]
    },
    {
     "data": {
      "text/html": [
       "<div>\n",
       "<table border=\"1\" class=\"dataframe\">\n",
       "  <thead>\n",
       "    <tr style=\"text-align: right;\">\n",
       "      <th></th>\n",
       "      <th>user_id</th>\n",
       "      <th>prog_dict</th>\n",
       "    </tr>\n",
       "  </thead>\n",
       "  <tbody>\n",
       "    <tr>\n",
       "      <th>0</th>\n",
       "      <td>1</td>\n",
       "      <td>{\"squat\": 2.5, \"deadlift\": 2.5, \"ohp\": 0, \"ben...</td>\n",
       "    </tr>\n",
       "  </tbody>\n",
       "</table>\n",
       "</div>"
      ],
      "text/plain": [
       "   user_id                                          prog_dict\n",
       "0        1  {\"squat\": 2.5, \"deadlift\": 2.5, \"ohp\": 0, \"ben..."
      ]
     },
     "execution_count": 7,
     "metadata": {},
     "output_type": "execute_result"
    }
   ],
   "source": [
    "workout.set_dim_prog(prog)"
   ]
  },
  {
   "cell_type": "code",
   "execution_count": 8,
   "metadata": {},
   "outputs": [
    {
     "name": "stdout",
     "output_type": "stream",
     "text": [
      "2018-06-17 16:34:11,990 | INFO | duplicate entry deleted\n",
      "2018-06-17 16:34:11,995 | INFO | new entry loaded\n",
      "2018-06-17 16:34:12,010 | INFO | dict is valid - one_rep_max overwitten\n"
     ]
    }
   ],
   "source": [
    "workout.set_one_rep_max(orm)"
   ]
  },
  {
   "cell_type": "markdown",
   "metadata": {},
   "source": [
    "### Pull Workout"
   ]
  },
  {
   "cell_type": "code",
   "execution_count": 9,
   "metadata": {},
   "outputs": [
    {
     "name": "stdout",
     "output_type": "stream",
     "text": [
      "2018-06-17 16:34:13,737 | INFO | using current orm - use self.set_one_rep_max if you wish to modify it\n",
      "2018-06-17 16:34:13,839 | INFO | workout saved to ./lp-workout.html\n"
     ]
    }
   ],
   "source": [
    "workout.main()"
   ]
  },
  {
   "cell_type": "markdown",
   "metadata": {},
   "source": [
    " "
   ]
  },
  {
   "cell_type": "markdown",
   "metadata": {},
   "source": [
    " "
   ]
  },
  {
   "cell_type": "markdown",
   "metadata": {},
   "source": [
    "### Extras"
   ]
  },
  {
   "cell_type": "markdown",
   "metadata": {},
   "source": [
    "__Check out some of the intermediate Output__"
   ]
  },
  {
   "cell_type": "code",
   "execution_count": 10,
   "metadata": {
    "scrolled": false
   },
   "outputs": [
    {
     "data": {
      "text/html": [
       "<div>\n",
       "<table border=\"1\" class=\"dataframe\">\n",
       "  <thead>\n",
       "    <tr style=\"text-align: right;\">\n",
       "      <th></th>\n",
       "      <th>me_name</th>\n",
       "      <th>ae_name</th>\n",
       "      <th>ae_weight</th>\n",
       "      <th>sets</th>\n",
       "      <th>reps</th>\n",
       "    </tr>\n",
       "  </thead>\n",
       "  <tbody>\n",
       "    <tr>\n",
       "      <th>0</th>\n",
       "      <td>deadlift</td>\n",
       "      <td>Rows</td>\n",
       "      <td>100.0</td>\n",
       "      <td>4</td>\n",
       "      <td>10</td>\n",
       "    </tr>\n",
       "    <tr>\n",
       "      <th>1</th>\n",
       "      <td>deadlift</td>\n",
       "      <td>Pullups</td>\n",
       "      <td>0.0</td>\n",
       "      <td>4</td>\n",
       "      <td>10</td>\n",
       "    </tr>\n",
       "    <tr>\n",
       "      <th>2</th>\n",
       "      <td>deadlift</td>\n",
       "      <td>Curls</td>\n",
       "      <td>30.0</td>\n",
       "      <td>4</td>\n",
       "      <td>10</td>\n",
       "    </tr>\n",
       "  </tbody>\n",
       "</table>\n",
       "</div>"
      ],
      "text/plain": [
       "    me_name  ae_name  ae_weight  sets  reps\n",
       "0  deadlift     Rows      100.0     4    10\n",
       "1  deadlift  Pullups        0.0     4    10\n",
       "2  deadlift    Curls       30.0     4    10"
      ]
     },
     "execution_count": 10,
     "metadata": {},
     "output_type": "execute_result"
    }
   ],
   "source": [
    "workout.get_accessory().head(3)"
   ]
  },
  {
   "cell_type": "code",
   "execution_count": 11,
   "metadata": {},
   "outputs": [
    {
     "data": {
      "text/html": [
       "<div>\n",
       "<table border=\"1\" class=\"dataframe\">\n",
       "  <thead>\n",
       "    <tr style=\"text-align: right;\">\n",
       "      <th></th>\n",
       "      <th>user_id</th>\n",
       "      <th>data_start_date</th>\n",
       "      <th>data_end_date</th>\n",
       "      <th>orm_dict</th>\n",
       "      <th>publish_time</th>\n",
       "    </tr>\n",
       "  </thead>\n",
       "  <tbody>\n",
       "    <tr>\n",
       "      <th>0</th>\n",
       "      <td>1</td>\n",
       "      <td>2018-06-17</td>\n",
       "      <td>2018-07-14</td>\n",
       "      <td>{\"squat\": 240, \"deadlift\": 290, \"ohp\": 127.5, ...</td>\n",
       "      <td>2018-06-17 16:26:44.019871</td>\n",
       "    </tr>\n",
       "  </tbody>\n",
       "</table>\n",
       "</div>"
      ],
      "text/plain": [
       "   user_id data_start_date data_end_date  \\\n",
       "0        1      2018-06-17    2018-07-14   \n",
       "\n",
       "                                            orm_dict  \\\n",
       "0  {\"squat\": 240, \"deadlift\": 290, \"ohp\": 127.5, ...   \n",
       "\n",
       "                publish_time  \n",
       "0 2018-06-17 16:26:44.019871  "
      ]
     },
     "execution_count": 11,
     "metadata": {},
     "output_type": "execute_result"
    }
   ],
   "source": [
    "orm = workout.get_orm()\n",
    "orm"
   ]
  },
  {
   "cell_type": "code",
   "execution_count": 12,
   "metadata": {
    "collapsed": true
   },
   "outputs": [],
   "source": [
    "from functions.workout_funcs import get_workout\n",
    "from functions.db_funcs import retrieve_json"
   ]
  },
  {
   "cell_type": "code",
   "execution_count": 13,
   "metadata": {},
   "outputs": [
    {
     "data": {
      "text/plain": [
       "{'bench': 182.5, 'deadlift': 290, 'ohp': 127.5, 'squat': 240}"
      ]
     },
     "execution_count": 13,
     "metadata": {},
     "output_type": "execute_result"
    }
   ],
   "source": [
    "orm_dict = retrieve_json(orm, 'orm_dict')\n",
    "orm_dict"
   ]
  },
  {
   "cell_type": "code",
   "execution_count": 14,
   "metadata": {
    "scrolled": true
   },
   "outputs": [
    {
     "data": {
      "text/html": [
       "<div>\n",
       "<table border=\"1\" class=\"dataframe\">\n",
       "  <thead>\n",
       "    <tr style=\"text-align: right;\">\n",
       "      <th></th>\n",
       "      <th>week</th>\n",
       "      <th>set</th>\n",
       "      <th>reps</th>\n",
       "      <th>deadlift</th>\n",
       "      <th>squat</th>\n",
       "      <th>bench</th>\n",
       "      <th>ohp</th>\n",
       "    </tr>\n",
       "  </thead>\n",
       "  <tbody>\n",
       "    <tr>\n",
       "      <th>0</th>\n",
       "      <td>1</td>\n",
       "      <td>1</td>\n",
       "      <td>5</td>\n",
       "      <td>190</td>\n",
       "      <td>155</td>\n",
       "      <td>120</td>\n",
       "      <td>85</td>\n",
       "    </tr>\n",
       "    <tr>\n",
       "      <th>1</th>\n",
       "      <td>1</td>\n",
       "      <td>2</td>\n",
       "      <td>5</td>\n",
       "      <td>220</td>\n",
       "      <td>180</td>\n",
       "      <td>135</td>\n",
       "      <td>95</td>\n",
       "    </tr>\n",
       "    <tr>\n",
       "      <th>2</th>\n",
       "      <td>1</td>\n",
       "      <td>3</td>\n",
       "      <td>5</td>\n",
       "      <td>245</td>\n",
       "      <td>205</td>\n",
       "      <td>155</td>\n",
       "      <td>110</td>\n",
       "    </tr>\n",
       "  </tbody>\n",
       "</table>\n",
       "</div>"
      ],
      "text/plain": [
       "   week  set  reps  deadlift  squat  bench  ohp\n",
       "0     1    1     5       190    155    120   85\n",
       "1     1    2     5       220    180    135   95\n",
       "2     1    3     5       245    205    155  110"
      ]
     },
     "execution_count": 14,
     "metadata": {},
     "output_type": "execute_result"
    }
   ],
   "source": [
    "get_workout(orm_dict, [1])"
   ]
  },
  {
   "cell_type": "markdown",
   "metadata": {},
   "source": [
    "__Check out the Database__"
   ]
  },
  {
   "cell_type": "code",
   "execution_count": 15,
   "metadata": {},
   "outputs": [
    {
     "data": {
      "text/html": [
       "<div>\n",
       "<table border=\"1\" class=\"dataframe\">\n",
       "  <thead>\n",
       "    <tr style=\"text-align: right;\">\n",
       "      <th></th>\n",
       "      <th>name</th>\n",
       "    </tr>\n",
       "  </thead>\n",
       "  <tbody>\n",
       "    <tr>\n",
       "      <th>0</th>\n",
       "      <td>dim_user</td>\n",
       "    </tr>\n",
       "    <tr>\n",
       "      <th>1</th>\n",
       "      <td>dim_progression</td>\n",
       "    </tr>\n",
       "    <tr>\n",
       "      <th>2</th>\n",
       "      <td>one_rep_max</td>\n",
       "    </tr>\n",
       "    <tr>\n",
       "      <th>3</th>\n",
       "      <td>accessory</td>\n",
       "    </tr>\n",
       "    <tr>\n",
       "      <th>4</th>\n",
       "      <td>pause_workout</td>\n",
       "    </tr>\n",
       "  </tbody>\n",
       "</table>\n",
       "</div>"
      ],
      "text/plain": [
       "              name\n",
       "0         dim_user\n",
       "1  dim_progression\n",
       "2      one_rep_max\n",
       "3        accessory\n",
       "4    pause_workout"
      ]
     },
     "execution_count": 15,
     "metadata": {},
     "output_type": "execute_result"
    }
   ],
   "source": [
    "schema = pd.read_sql('SELECT name FROM sqlite_master WHERE type=\"table\";', con)\n",
    "schema"
   ]
  },
  {
   "cell_type": "code",
   "execution_count": 16,
   "metadata": {},
   "outputs": [
    {
     "data": {
      "text/html": [
       "<div>\n",
       "<table border=\"1\" class=\"dataframe\">\n",
       "  <thead>\n",
       "    <tr style=\"text-align: right;\">\n",
       "      <th></th>\n",
       "      <th>user_id</th>\n",
       "      <th>user_name</th>\n",
       "      <th>email</th>\n",
       "    </tr>\n",
       "  </thead>\n",
       "  <tbody>\n",
       "    <tr>\n",
       "      <th>0</th>\n",
       "      <td>1</td>\n",
       "      <td>Matt Guan</td>\n",
       "      <td>email@email.com</td>\n",
       "    </tr>\n",
       "  </tbody>\n",
       "</table>\n",
       "</div>"
      ],
      "text/plain": [
       "   user_id  user_name            email\n",
       "0        1  Matt Guan  email@email.com"
      ]
     },
     "execution_count": 16,
     "metadata": {},
     "output_type": "execute_result"
    }
   ],
   "source": [
    "pd.read_sql('select * from dim_user', con)"
   ]
  },
  {
   "cell_type": "code",
   "execution_count": 17,
   "metadata": {},
   "outputs": [
    {
     "data": {
      "text/html": [
       "<div>\n",
       "<table border=\"1\" class=\"dataframe\">\n",
       "  <thead>\n",
       "    <tr style=\"text-align: right;\">\n",
       "      <th></th>\n",
       "      <th>user_id</th>\n",
       "      <th>data_start_date</th>\n",
       "      <th>data_end_date</th>\n",
       "      <th>orm_dict</th>\n",
       "      <th>publish_time</th>\n",
       "    </tr>\n",
       "  </thead>\n",
       "  <tbody>\n",
       "    <tr>\n",
       "      <th>0</th>\n",
       "      <td>1</td>\n",
       "      <td>2018-06-10</td>\n",
       "      <td>2018-06-16</td>\n",
       "      <td>{\"squat\": 240, \"deadlift\": 290, \"ohp\": 127.5, ...</td>\n",
       "      <td>2018-06-17 16:26:44.049850</td>\n",
       "    </tr>\n",
       "    <tr>\n",
       "      <th>1</th>\n",
       "      <td>1</td>\n",
       "      <td>2018-06-17</td>\n",
       "      <td>2018-07-14</td>\n",
       "      <td>{\"squat\": 240, \"deadlift\": 290, \"ohp\": 127.5, ...</td>\n",
       "      <td>2018-06-17 16:26:44.019871</td>\n",
       "    </tr>\n",
       "  </tbody>\n",
       "</table>\n",
       "</div>"
      ],
      "text/plain": [
       "   user_id data_start_date data_end_date  \\\n",
       "0        1      2018-06-10    2018-06-16   \n",
       "1        1      2018-06-17    2018-07-14   \n",
       "\n",
       "                                            orm_dict  \\\n",
       "0  {\"squat\": 240, \"deadlift\": 290, \"ohp\": 127.5, ...   \n",
       "1  {\"squat\": 240, \"deadlift\": 290, \"ohp\": 127.5, ...   \n",
       "\n",
       "                publish_time  \n",
       "0 2018-06-17 16:26:44.049850  \n",
       "1 2018-06-17 16:26:44.019871  "
      ]
     },
     "execution_count": 17,
     "metadata": {},
     "output_type": "execute_result"
    }
   ],
   "source": [
    "pd.read_sql('select * from one_rep_max', con)"
   ]
  },
  {
   "cell_type": "code",
   "execution_count": 18,
   "metadata": {},
   "outputs": [
    {
     "data": {
      "text/html": [
       "<div>\n",
       "<table border=\"1\" class=\"dataframe\">\n",
       "  <thead>\n",
       "    <tr style=\"text-align: right;\">\n",
       "      <th></th>\n",
       "      <th>user_id</th>\n",
       "      <th>prog_dict</th>\n",
       "    </tr>\n",
       "  </thead>\n",
       "  <tbody>\n",
       "    <tr>\n",
       "      <th>0</th>\n",
       "      <td>1</td>\n",
       "      <td>{\"squat\": 2.5, \"deadlift\": 2.5, \"ohp\": 0, \"ben...</td>\n",
       "    </tr>\n",
       "  </tbody>\n",
       "</table>\n",
       "</div>"
      ],
      "text/plain": [
       "   user_id                                          prog_dict\n",
       "0        1  {\"squat\": 2.5, \"deadlift\": 2.5, \"ohp\": 0, \"ben..."
      ]
     },
     "execution_count": 18,
     "metadata": {},
     "output_type": "execute_result"
    }
   ],
   "source": [
    "pd.read_sql('select * from dim_progression', con)"
   ]
  },
  {
   "cell_type": "markdown",
   "metadata": {},
   "source": [
    " "
   ]
  }
 ],
 "metadata": {
  "kernelspec": {
   "display_name": "Python 3",
   "language": "python",
   "name": "python3"
  },
  "language_info": {
   "codemirror_mode": {
    "name": "ipython",
    "version": 3
   },
   "file_extension": ".py",
   "mimetype": "text/x-python",
   "name": "python",
   "nbconvert_exporter": "python",
   "pygments_lexer": "ipython3",
   "version": "3.6.5"
  }
 },
 "nbformat": 4,
 "nbformat_minor": 2
}
