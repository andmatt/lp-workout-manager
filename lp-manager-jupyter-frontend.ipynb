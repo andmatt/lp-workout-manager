{
 "cells": [
  {
   "cell_type": "markdown",
   "metadata": {},
   "source": [
    "### Inputs "
   ]
  },
  {
   "cell_type": "code",
   "execution_count": 1,
   "metadata": {},
   "outputs": [],
   "source": [
    "from io import StringIO\n",
    "import sqlite3\n",
    "\n",
    "import numpy as np\n",
    "import pandas as pd\n",
    "\n",
    "from workout_maker import WorkoutMaker"
   ]
  },
  {
   "cell_type": "markdown",
   "metadata": {},
   "source": [
    "__sqlite__"
   ]
  },
  {
   "cell_type": "code",
   "execution_count": 2,
   "metadata": {},
   "outputs": [],
   "source": [
    "# custom sqlite adapters because of datatype parameterization issues\n",
    "sqlite3.register_adapter(np.int64, lambda val: int(val))\n",
    "sqlite3.register_adapter(pd.tslib.Timestamp, lambda val: str(val))\n",
    "con = sqlite3.connect('workout.db', detect_types=sqlite3.PARSE_DECLTYPES)\n",
    "\n",
    "#create database if needed\n",
    "with con:\n",
    "    cur = con.cursor() \n",
    "    cur.execute(\"CREATE TABLE IF NOT EXISTS dim_user(user_id INT, user_name STRING, email STRING)\")\n",
    "    cur.execute(\"CREATE TABLE IF NOT EXISTS dim_progression(user_id INT, prog_dict JSON)\")\n",
    "    cur.execute(\"CREATE TABLE IF NOT EXISTS one_rep_max(user_id INT, data_start_date TIMESTAMP, data_end_date TIMESTAMP, orm_dict JSON, publish_time TIMESTAMP)\")\n",
    "    cur.execute(\"CREATE TABLE IF NOT EXISTS accessory(user_id INT, me_name STRING, ae_name STRING, ae_weight FLOAT, sets INT, reps INT, publish_time TIMESTAMP)\")\n",
    "    cur.execute(\"CREATE TABLE IF NOT EXISTS pause_workout(user_id INT, pause_date TIMESTAMP DEFAULT '2999-12-31 23:59:59', pause_flag BOOLEAN DEFAULT False)\")"
   ]
  },
  {
   "cell_type": "markdown",
   "metadata": {},
   "source": [
    "__initialize module__"
   ]
  },
  {
   "cell_type": "code",
   "execution_count": 3,
   "metadata": {},
   "outputs": [
    {
     "name": "stdout",
     "output_type": "stream",
     "text": [
      "Welcome back Matt Guan!\n"
     ]
    }
   ],
   "source": [
    "workout = WorkoutMaker(con, 'Matt Guan', 'mguan999@gmail.com')"
   ]
  },
  {
   "cell_type": "markdown",
   "metadata": {},
   "source": [
    "### __First Run Only__\n",
    "Enter your workout inputs here..\n",
    "* `accessory` : pandas df containing accessory workout weights\n",
    "* `prog` : dict containing monthly progression weight for each main workout\n",
    "* `orm` : dict containing one rep max weights for each main workout\n",
    "\n",
    "<div class=\"alert alert-info\">\n",
    "  <strong>Note:</strong> You only need to run this part if it is your first run OR you want to update something.\n",
    "</div>"
   ]
  },
  {
   "cell_type": "code",
   "execution_count": 4,
   "metadata": {},
   "outputs": [],
   "source": [
    "s = '''\n",
    "me_name\tae_name\tae_weight\tsets\treps\n",
    "deadlift\tRows\t100\t4\t10\n",
    "deadlift\tPullups\t0\t4\t10\n",
    "deadlift\tCurls\t30\t4\t10\n",
    "deadlift\tBack Extension\t225\t4\t10\n",
    "squat\tLeg Press\t290\t4\t10\n",
    "squat\tLying Leg Curl\t85\t4\t10\n",
    "squat\tCalf Raise\t225\t4\t10\n",
    "squat\tHip Abd/Add-uction\t250\t4\t10\n",
    "bench\tDips\t0\t4\t10\n",
    "bench\tIncline D.Bell Press\t45\t4\t10\n",
    "bench\tCable Tricep Ext.\t42.5\t4\t10\n",
    "bench\tMachine Pec Fly\t100\t4\t10\n",
    "ohp\tSitting D.Bell Press\t50\t5\t5\n",
    "ohp\tCable Rear Delt Fly\t25\t4\t10\n",
    "ohp\tMachine Rear Delt Fly\t70\t4\t10\n",
    "ohp\tMachine Lat Raise\t60\t4\t10\n",
    "'''\n",
    "accessory = pd.read_csv(StringIO(s), sep='\\t')\n",
    "\n",
    "prog = {'squat':2.5 , 'deadlift':2.5, 'ohp':0, 'bench':2.5}\n",
    "orm = {'squat':240 , 'deadlift':290, 'ohp':127.5, 'bench':182.5}"
   ]
  },
  {
   "cell_type": "code",
   "execution_count": 5,
   "metadata": {},
   "outputs": [
    {
     "name": "stdout",
     "output_type": "stream",
     "text": [
      "2018-06-16 22:07:23,850 | INFO | dataframe is valid - accessory populated\n"
     ]
    },
    {
     "data": {
      "text/html": [
       "<div>\n",
       "<table border=\"1\" class=\"dataframe\">\n",
       "  <thead>\n",
       "    <tr style=\"text-align: right;\">\n",
       "      <th></th>\n",
       "      <th>me_name</th>\n",
       "      <th>ae_name</th>\n",
       "      <th>ae_weight</th>\n",
       "      <th>sets</th>\n",
       "      <th>reps</th>\n",
       "      <th>user_id</th>\n",
       "      <th>publish_time</th>\n",
       "    </tr>\n",
       "  </thead>\n",
       "  <tbody>\n",
       "    <tr>\n",
       "      <th>0</th>\n",
       "      <td>deadlift</td>\n",
       "      <td>Rows</td>\n",
       "      <td>100.0</td>\n",
       "      <td>4</td>\n",
       "      <td>10</td>\n",
       "      <td>1</td>\n",
       "      <td>2018-06-16 22:07:23.840519</td>\n",
       "    </tr>\n",
       "    <tr>\n",
       "      <th>1</th>\n",
       "      <td>deadlift</td>\n",
       "      <td>Pullups</td>\n",
       "      <td>0.0</td>\n",
       "      <td>4</td>\n",
       "      <td>10</td>\n",
       "      <td>1</td>\n",
       "      <td>2018-06-16 22:07:23.840519</td>\n",
       "    </tr>\n",
       "    <tr>\n",
       "      <th>2</th>\n",
       "      <td>deadlift</td>\n",
       "      <td>Curls</td>\n",
       "      <td>30.0</td>\n",
       "      <td>4</td>\n",
       "      <td>10</td>\n",
       "      <td>1</td>\n",
       "      <td>2018-06-16 22:07:23.840519</td>\n",
       "    </tr>\n",
       "  </tbody>\n",
       "</table>\n",
       "</div>"
      ],
      "text/plain": [
       "    me_name  ae_name  ae_weight  sets  reps  user_id  \\\n",
       "0  deadlift     Rows      100.0     4    10        1   \n",
       "1  deadlift  Pullups        0.0     4    10        1   \n",
       "2  deadlift    Curls       30.0     4    10        1   \n",
       "\n",
       "                publish_time  \n",
       "0 2018-06-16 22:07:23.840519  \n",
       "1 2018-06-16 22:07:23.840519  \n",
       "2 2018-06-16 22:07:23.840519  "
      ]
     },
     "execution_count": 5,
     "metadata": {},
     "output_type": "execute_result"
    }
   ],
   "source": [
    "workout.set_accessory(accessory)"
   ]
  },
  {
   "cell_type": "code",
   "execution_count": 6,
   "metadata": {},
   "outputs": [
    {
     "name": "stdout",
     "output_type": "stream",
     "text": [
      "duplicate entry deleted\n",
      "new entry loaded\n",
      "2018-06-16 22:07:24,133 | INFO | dict is valid - dim_progression populated\n"
     ]
    },
    {
     "data": {
      "text/html": [
       "<div>\n",
       "<table border=\"1\" class=\"dataframe\">\n",
       "  <thead>\n",
       "    <tr style=\"text-align: right;\">\n",
       "      <th></th>\n",
       "      <th>user_id</th>\n",
       "      <th>prog_dict</th>\n",
       "    </tr>\n",
       "  </thead>\n",
       "  <tbody>\n",
       "    <tr>\n",
       "      <th>0</th>\n",
       "      <td>1</td>\n",
       "      <td>{\"squat\": 2.5, \"deadlift\": 2.5, \"ohp\": 0, \"ben...</td>\n",
       "    </tr>\n",
       "  </tbody>\n",
       "</table>\n",
       "</div>"
      ],
      "text/plain": [
       "   user_id                                          prog_dict\n",
       "0        1  {\"squat\": 2.5, \"deadlift\": 2.5, \"ohp\": 0, \"ben..."
      ]
     },
     "execution_count": 6,
     "metadata": {},
     "output_type": "execute_result"
    }
   ],
   "source": [
    "workout.set_dim_prog(prog)"
   ]
  },
  {
   "cell_type": "code",
   "execution_count": 7,
   "metadata": {},
   "outputs": [
    {
     "name": "stdout",
     "output_type": "stream",
     "text": [
      "duplicate entry deleted\n",
      "new entry loaded\n",
      "2018-06-16 22:07:24,451 | INFO | dict is valid - one_rep_max overwitten\n"
     ]
    }
   ],
   "source": [
    "workout.set_one_rep_max(orm)"
   ]
  },
  {
   "cell_type": "markdown",
   "metadata": {},
   "source": [
    "### Pull Workout"
   ]
  },
  {
   "cell_type": "code",
   "execution_count": 8,
   "metadata": {
    "scrolled": false
   },
   "outputs": [
    {
     "name": "stdout",
     "output_type": "stream",
     "text": [
      "2018-06-16 22:07:25,728 | INFO | workout saved to ./lp-workout.html\n"
     ]
    }
   ],
   "source": [
    "workout.main()"
   ]
  }
 ],
 "metadata": {
  "kernelspec": {
   "display_name": "Python 3",
   "language": "python",
   "name": "python3"
  },
  "language_info": {
   "codemirror_mode": {
    "name": "ipython",
    "version": 3
   },
   "file_extension": ".py",
   "mimetype": "text/x-python",
   "name": "python",
   "nbconvert_exporter": "python",
   "pygments_lexer": "ipython3",
   "version": "3.6.5"
  }
 },
 "nbformat": 4,
 "nbformat_minor": 2
}
