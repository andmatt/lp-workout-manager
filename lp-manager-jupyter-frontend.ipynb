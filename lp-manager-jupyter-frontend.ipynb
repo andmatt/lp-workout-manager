{
 "cells": [
  {
   "cell_type": "markdown",
   "metadata": {},
   "source": [
    "## LP Workout Manager\n",
    "author = ['Matt Guan']"
   ]
  },
  {
   "cell_type": "markdown",
   "metadata": {},
   "source": [
    "### Inputs "
   ]
  },
  {
   "cell_type": "code",
   "execution_count": 1,
   "metadata": {},
   "outputs": [
    {
     "data": {
      "text/html": [
       "<script>requirejs.config({paths: { 'plotly': ['https://cdn.plot.ly/plotly-latest.min']},});if(!window.Plotly) {{require(['plotly'],function(plotly) {window.Plotly=plotly;});}}</script>"
      ],
      "text/vnd.plotly.v1+html": [
       "<script>requirejs.config({paths: { 'plotly': ['https://cdn.plot.ly/plotly-latest.min']},});if(!window.Plotly) {{require(['plotly'],function(plotly) {window.Plotly=plotly;});}}</script>"
      ]
     },
     "metadata": {},
     "output_type": "display_data"
    }
   ],
   "source": [
    "from io import StringIO\n",
    "import sqlite3\n",
    "from plotly.offline import init_notebook_mode\n",
    "init_notebook_mode(connected=True)\n",
    "\n",
    "import numpy as np\n",
    "import pandas as pd\n",
    "\n",
    "from workout_maker import WorkoutMaker\n",
    "from functions.db_funcs import get_db_con, create_db"
   ]
  },
  {
   "cell_type": "markdown",
   "metadata": {},
   "source": [
    "__Create Tables if they Don't Exist__"
   ]
  },
  {
   "cell_type": "code",
   "execution_count": 2,
   "metadata": {
    "collapsed": true
   },
   "outputs": [],
   "source": [
    "con = get_db_con(db='workout.db')\n",
    "create_db(con)"
   ]
  },
  {
   "cell_type": "code",
   "execution_count": 3,
   "metadata": {
    "collapsed": true
   },
   "outputs": [],
   "source": [
    "import datetime\n",
    "from functions.dt_funcs import now\n",
    "import json"
   ]
  },
  {
   "cell_type": "markdown",
   "metadata": {},
   "source": [
    "__initialize module__"
   ]
  },
  {
   "cell_type": "code",
   "execution_count": 4,
   "metadata": {},
   "outputs": [
    {
     "name": "stdout",
     "output_type": "stream",
     "text": [
      "Welcome back mguan!\n"
     ]
    }
   ],
   "source": [
    "workout = WorkoutMaker(con, 'mguan', 'email@email.com')"
   ]
  },
  {
   "cell_type": "markdown",
   "metadata": {},
   "source": [
    "### __First Run Only__\n",
    "Enter your workout inputs here..\n",
    "* `accessory` : pandas df containing accessory workout weights\n",
    "* `prog` : dict containing monthly progression weight for each main workout\n",
    "* `orm` : dict containing one rep max weights for each main workout\n",
    "\n",
    "<div class=\"alert alert-info\">\n",
    "  <strong>Note:</strong> You only need to run this part if it is your first run OR you want to update something.\n",
    "</div>"
   ]
  },
  {
   "cell_type": "code",
   "execution_count": 5,
   "metadata": {
    "collapsed": true
   },
   "outputs": [],
   "source": [
    "s = '''\n",
    "me_name\tae_name\tae_weight\tsets\treps\n",
    "deadlift\tRows\t100\t4\t10\n",
    "deadlift\tPullups\t0\t4\t10\n",
    "deadlift\tCurls\t30\t4\t10\n",
    "deadlift\tBack Extension\t225\t4\t10\n",
    "squat\tLeg Press\t290\t4\t10\n",
    "squat\tLying Leg Curl\t85\t4\t10\n",
    "squat\tCalf Raise\t225\t4\t10\n",
    "squat\tHip Abd/Add-uction\t250\t4\t10\n",
    "bench\tDips\t0\t4\t10\n",
    "bench\tIncline D.Bell Press\t45\t4\t10\n",
    "bench\tCable Tricep Ext.\t42.5\t4\t10\n",
    "bench\tMachine Pec Fly\t100\t4\t10\n",
    "ohp\tSitting D.Bell Press\t50\t5\t5\n",
    "ohp\tCable Rear Delt Fly\t25\t4\t10\n",
    "ohp\tMachine Rear Delt Fly\t70\t4\t10\n",
    "ohp\tMachine Lat Raise\t60\t4\t10\n",
    "'''\n",
    "accessory = pd.read_csv(StringIO(s), sep='\\t')\n",
    "\n",
    "prog = {'squat':2.5 , 'deadlift':2.5, 'ohp':0, 'bench':2.5}\n",
    "orm = {'squat':240 , 'deadlift':290, 'ohp':127.5, 'bench':182.5}"
   ]
  },
  {
   "cell_type": "code",
   "execution_count": 6,
   "metadata": {},
   "outputs": [
    {
     "name": "stdout",
     "output_type": "stream",
     "text": [
      "2018-06-23 16:45:34,453 | INFO | dataframe is valid - accessory populated\n"
     ]
    },
    {
     "data": {
      "text/html": [
       "<div>\n",
       "<table border=\"1\" class=\"dataframe\">\n",
       "  <thead>\n",
       "    <tr style=\"text-align: right;\">\n",
       "      <th></th>\n",
       "      <th>me_name</th>\n",
       "      <th>ae_name</th>\n",
       "      <th>ae_weight</th>\n",
       "      <th>sets</th>\n",
       "      <th>reps</th>\n",
       "      <th>user_id</th>\n",
       "      <th>publish_time</th>\n",
       "    </tr>\n",
       "  </thead>\n",
       "  <tbody>\n",
       "    <tr>\n",
       "      <th>0</th>\n",
       "      <td>deadlift</td>\n",
       "      <td>Rows</td>\n",
       "      <td>100.0</td>\n",
       "      <td>4</td>\n",
       "      <td>10</td>\n",
       "      <td>1</td>\n",
       "      <td>2018-06-23 16:45:34.443924</td>\n",
       "    </tr>\n",
       "    <tr>\n",
       "      <th>1</th>\n",
       "      <td>deadlift</td>\n",
       "      <td>Pullups</td>\n",
       "      <td>0.0</td>\n",
       "      <td>4</td>\n",
       "      <td>10</td>\n",
       "      <td>1</td>\n",
       "      <td>2018-06-23 16:45:34.443924</td>\n",
       "    </tr>\n",
       "    <tr>\n",
       "      <th>2</th>\n",
       "      <td>deadlift</td>\n",
       "      <td>Curls</td>\n",
       "      <td>30.0</td>\n",
       "      <td>4</td>\n",
       "      <td>10</td>\n",
       "      <td>1</td>\n",
       "      <td>2018-06-23 16:45:34.443924</td>\n",
       "    </tr>\n",
       "  </tbody>\n",
       "</table>\n",
       "</div>"
      ],
      "text/plain": [
       "    me_name  ae_name  ae_weight  sets  reps  user_id  \\\n",
       "0  deadlift     Rows      100.0     4    10        1   \n",
       "1  deadlift  Pullups        0.0     4    10        1   \n",
       "2  deadlift    Curls       30.0     4    10        1   \n",
       "\n",
       "                publish_time  \n",
       "0 2018-06-23 16:45:34.443924  \n",
       "1 2018-06-23 16:45:34.443924  \n",
       "2 2018-06-23 16:45:34.443924  "
      ]
     },
     "execution_count": 6,
     "metadata": {},
     "output_type": "execute_result"
    }
   ],
   "source": [
    "workout.set_accessory(accessory)"
   ]
  },
  {
   "cell_type": "code",
   "execution_count": 7,
   "metadata": {},
   "outputs": [
    {
     "name": "stdout",
     "output_type": "stream",
     "text": [
      "2018-06-23 16:45:37,225 | INFO | new entry loaded\n",
      "2018-06-23 16:45:37,241 | INFO | dict is valid - dim_progression populated\n"
     ]
    },
    {
     "data": {
      "text/html": [
       "<div>\n",
       "<table border=\"1\" class=\"dataframe\">\n",
       "  <thead>\n",
       "    <tr style=\"text-align: right;\">\n",
       "      <th></th>\n",
       "      <th>user_id</th>\n",
       "      <th>prog_dict</th>\n",
       "    </tr>\n",
       "  </thead>\n",
       "  <tbody>\n",
       "    <tr>\n",
       "      <th>0</th>\n",
       "      <td>1</td>\n",
       "      <td>{\"squat\": 2.5, \"deadlift\": 2.5, \"ohp\": 0, \"ben...</td>\n",
       "    </tr>\n",
       "  </tbody>\n",
       "</table>\n",
       "</div>"
      ],
      "text/plain": [
       "   user_id                                          prog_dict\n",
       "0        1  {\"squat\": 2.5, \"deadlift\": 2.5, \"ohp\": 0, \"ben..."
      ]
     },
     "execution_count": 7,
     "metadata": {},
     "output_type": "execute_result"
    }
   ],
   "source": [
    "workout.set_dim_prog(prog)"
   ]
  },
  {
   "cell_type": "code",
   "execution_count": 8,
   "metadata": {},
   "outputs": [
    {
     "name": "stdout",
     "output_type": "stream",
     "text": [
      "2018-06-23 16:45:39,124 | INFO | duplicate entry deleted\n",
      "2018-06-23 16:45:39,126 | INFO | new entry loaded\n",
      "2018-06-23 16:45:39,137 | INFO | dict is valid - one_rep_max overwitten\n"
     ]
    }
   ],
   "source": [
    "workout.set_one_rep_max(orm)"
   ]
  },
  {
   "cell_type": "markdown",
   "metadata": {},
   "source": [
    "### Pull Workout"
   ]
  },
  {
   "cell_type": "code",
   "execution_count": 9,
   "metadata": {},
   "outputs": [
    {
     "name": "stdout",
     "output_type": "stream",
     "text": [
      "2018-06-23 16:45:44,079 | INFO | using current orm - use self.set_one_rep_max if you wish to modify it\n",
      "2018-06-23 16:45:44,221 | INFO | workout saved to ./lp-workout.html\n"
     ]
    }
   ],
   "source": [
    "workout.main()"
   ]
  },
  {
   "cell_type": "markdown",
   "metadata": {},
   "source": [
    "### View ORM Progression"
   ]
  },
  {
   "cell_type": "code",
   "execution_count": 10,
   "metadata": {},
   "outputs": [
    {
     "data": {
      "application/vnd.plotly.v1+json": {
       "data": [
        {
         "line": {
          "color": "#4c72b0"
         },
         "mode": "lines+markers",
         "name": "squat",
         "type": "scatter",
         "x": [
          "2017-05-28",
          "2017-06-25",
          "2017-07-23",
          "2017-08-20",
          "2017-09-17",
          "2017-10-15",
          "2017-11-12",
          "2017-12-10",
          "2018-01-07",
          "2018-02-04",
          "2018-03-04",
          "2018-04-01",
          "2018-04-29",
          "2018-05-27"
         ],
         "y": [
          165,
          175,
          185,
          195,
          205,
          210,
          220,
          220,
          220,
          220,
          225,
          230,
          235,
          240
         ]
        },
        {
         "line": {
          "color": "#55a868"
         },
         "mode": "lines+markers",
         "name": "bench",
         "type": "scatter",
         "x": [
          "2017-05-28",
          "2017-06-25",
          "2017-07-23",
          "2017-08-20",
          "2017-09-17",
          "2017-10-15",
          "2017-11-12",
          "2017-12-10",
          "2018-01-07",
          "2018-02-04",
          "2018-03-04",
          "2018-04-01",
          "2018-04-29",
          "2018-05-27"
         ],
         "y": [
          155,
          165,
          170,
          185,
          195,
          205,
          205,
          205,
          205,
          205,
          175,
          177.5,
          180,
          182.5
         ]
        },
        {
         "line": {
          "color": "#c44e52"
         },
         "mode": "lines+markers",
         "name": "deadlift",
         "type": "scatter",
         "x": [
          "2017-05-28",
          "2017-06-25",
          "2017-07-23",
          "2017-08-20",
          "2017-09-17",
          "2017-10-15",
          "2017-11-12",
          "2017-12-10",
          "2018-01-07",
          "2018-02-04",
          "2018-03-04",
          "2018-04-01",
          "2018-04-29",
          "2018-05-27"
         ],
         "y": [
          225,
          235,
          245,
          250,
          255,
          260,
          265,
          270,
          270,
          270,
          275,
          280,
          285,
          290
         ]
        },
        {
         "line": {
          "color": "#8172b2"
         },
         "mode": "lines+markers",
         "name": "ohp",
         "type": "scatter",
         "x": [
          "2017-05-28",
          "2017-06-25",
          "2017-07-23",
          "2017-08-20",
          "2017-09-17",
          "2017-10-15",
          "2017-11-12",
          "2017-12-10",
          "2018-01-07",
          "2018-02-04",
          "2018-03-04",
          "2018-04-01",
          "2018-04-29",
          "2018-05-27"
         ],
         "y": [
          100,
          102.5,
          105,
          107.5,
          110,
          112.5,
          115,
          117.5,
          117.5,
          117.5,
          120,
          122.5,
          125,
          127.5
         ]
        }
       ],
       "layout": {
        "height": 600,
        "title": "One Rep Max Progression",
        "width": 700,
        "xaxis": {
         "title": "date"
        },
        "yaxis": {
         "title": "weight (lb)"
        }
       }
      },
      "text/html": [
       "<div id=\"21795aa3-507a-4dc5-bdd5-0a261cfec01f\" style=\"height: 600px; width: 700px;\" class=\"plotly-graph-div\"></div><script type=\"text/javascript\">require([\"plotly\"], function(Plotly) { window.PLOTLYENV=window.PLOTLYENV || {};window.PLOTLYENV.BASE_URL=\"https://plot.ly\";Plotly.newPlot(\"21795aa3-507a-4dc5-bdd5-0a261cfec01f\", [{\"type\": \"scatter\", \"x\": [\"2017-05-28\", \"2017-06-25\", \"2017-07-23\", \"2017-08-20\", \"2017-09-17\", \"2017-10-15\", \"2017-11-12\", \"2017-12-10\", \"2018-01-07\", \"2018-02-04\", \"2018-03-04\", \"2018-04-01\", \"2018-04-29\", \"2018-05-27\"], \"y\": [165.0, 175.0, 185.0, 195.0, 205.0, 210.0, 220.0, 220.0, 220.0, 220.0, 225.0, 230.0, 235.0, 240.0], \"name\": \"squat\", \"line\": {\"color\": \"#4c72b0\"}, \"mode\": \"lines+markers\"}, {\"type\": \"scatter\", \"x\": [\"2017-05-28\", \"2017-06-25\", \"2017-07-23\", \"2017-08-20\", \"2017-09-17\", \"2017-10-15\", \"2017-11-12\", \"2017-12-10\", \"2018-01-07\", \"2018-02-04\", \"2018-03-04\", \"2018-04-01\", \"2018-04-29\", \"2018-05-27\"], \"y\": [155.0, 165.0, 170.0, 185.0, 195.0, 205.0, 205.0, 205.0, 205.0, 205.0, 175.0, 177.5, 180.0, 182.5], \"name\": \"bench\", \"line\": {\"color\": \"#55a868\"}, \"mode\": \"lines+markers\"}, {\"type\": \"scatter\", \"x\": [\"2017-05-28\", \"2017-06-25\", \"2017-07-23\", \"2017-08-20\", \"2017-09-17\", \"2017-10-15\", \"2017-11-12\", \"2017-12-10\", \"2018-01-07\", \"2018-02-04\", \"2018-03-04\", \"2018-04-01\", \"2018-04-29\", \"2018-05-27\"], \"y\": [225.0, 235.0, 245.0, 250.0, 255.0, 260.0, 265.0, 270.0, 270.0, 270.0, 275.0, 280.0, 285.0, 290.0], \"name\": \"deadlift\", \"line\": {\"color\": \"#c44e52\"}, \"mode\": \"lines+markers\"}, {\"type\": \"scatter\", \"x\": [\"2017-05-28\", \"2017-06-25\", \"2017-07-23\", \"2017-08-20\", \"2017-09-17\", \"2017-10-15\", \"2017-11-12\", \"2017-12-10\", \"2018-01-07\", \"2018-02-04\", \"2018-03-04\", \"2018-04-01\", \"2018-04-29\", \"2018-05-27\"], \"y\": [100.0, 102.5, 105.0, 107.5, 110.0, 112.5, 115.0, 117.5, 117.5, 117.5, 120.0, 122.5, 125.0, 127.5], \"name\": \"ohp\", \"line\": {\"color\": \"#8172b2\"}, \"mode\": \"lines+markers\"}], {\"title\": \"One Rep Max Progression\", \"xaxis\": {\"title\": \"date\"}, \"yaxis\": {\"title\": \"weight (lb)\"}, \"height\": 600, \"width\": 700}, {\"showLink\": true, \"linkText\": \"Export to plot.ly\"})});</script>"
      ],
      "text/vnd.plotly.v1+html": [
       "<div id=\"21795aa3-507a-4dc5-bdd5-0a261cfec01f\" style=\"height: 600px; width: 700px;\" class=\"plotly-graph-div\"></div><script type=\"text/javascript\">require([\"plotly\"], function(Plotly) { window.PLOTLYENV=window.PLOTLYENV || {};window.PLOTLYENV.BASE_URL=\"https://plot.ly\";Plotly.newPlot(\"21795aa3-507a-4dc5-bdd5-0a261cfec01f\", [{\"type\": \"scatter\", \"x\": [\"2017-05-28\", \"2017-06-25\", \"2017-07-23\", \"2017-08-20\", \"2017-09-17\", \"2017-10-15\", \"2017-11-12\", \"2017-12-10\", \"2018-01-07\", \"2018-02-04\", \"2018-03-04\", \"2018-04-01\", \"2018-04-29\", \"2018-05-27\"], \"y\": [165.0, 175.0, 185.0, 195.0, 205.0, 210.0, 220.0, 220.0, 220.0, 220.0, 225.0, 230.0, 235.0, 240.0], \"name\": \"squat\", \"line\": {\"color\": \"#4c72b0\"}, \"mode\": \"lines+markers\"}, {\"type\": \"scatter\", \"x\": [\"2017-05-28\", \"2017-06-25\", \"2017-07-23\", \"2017-08-20\", \"2017-09-17\", \"2017-10-15\", \"2017-11-12\", \"2017-12-10\", \"2018-01-07\", \"2018-02-04\", \"2018-03-04\", \"2018-04-01\", \"2018-04-29\", \"2018-05-27\"], \"y\": [155.0, 165.0, 170.0, 185.0, 195.0, 205.0, 205.0, 205.0, 205.0, 205.0, 175.0, 177.5, 180.0, 182.5], \"name\": \"bench\", \"line\": {\"color\": \"#55a868\"}, \"mode\": \"lines+markers\"}, {\"type\": \"scatter\", \"x\": [\"2017-05-28\", \"2017-06-25\", \"2017-07-23\", \"2017-08-20\", \"2017-09-17\", \"2017-10-15\", \"2017-11-12\", \"2017-12-10\", \"2018-01-07\", \"2018-02-04\", \"2018-03-04\", \"2018-04-01\", \"2018-04-29\", \"2018-05-27\"], \"y\": [225.0, 235.0, 245.0, 250.0, 255.0, 260.0, 265.0, 270.0, 270.0, 270.0, 275.0, 280.0, 285.0, 290.0], \"name\": \"deadlift\", \"line\": {\"color\": \"#c44e52\"}, \"mode\": \"lines+markers\"}, {\"type\": \"scatter\", \"x\": [\"2017-05-28\", \"2017-06-25\", \"2017-07-23\", \"2017-08-20\", \"2017-09-17\", \"2017-10-15\", \"2017-11-12\", \"2017-12-10\", \"2018-01-07\", \"2018-02-04\", \"2018-03-04\", \"2018-04-01\", \"2018-04-29\", \"2018-05-27\"], \"y\": [100.0, 102.5, 105.0, 107.5, 110.0, 112.5, 115.0, 117.5, 117.5, 117.5, 120.0, 122.5, 125.0, 127.5], \"name\": \"ohp\", \"line\": {\"color\": \"#8172b2\"}, \"mode\": \"lines+markers\"}], {\"title\": \"One Rep Max Progression\", \"xaxis\": {\"title\": \"date\"}, \"yaxis\": {\"title\": \"weight (lb)\"}, \"height\": 600, \"width\": 700}, {\"showLink\": true, \"linkText\": \"Export to plot.ly\"})});</script>"
      ]
     },
     "metadata": {},
     "output_type": "display_data"
    }
   ],
   "source": [
    "workout.viz_orm()"
   ]
  },
  {
   "cell_type": "markdown",
   "metadata": {},
   "source": [
    " "
   ]
  },
  {
   "cell_type": "markdown",
   "metadata": {},
   "source": [
    " "
   ]
  },
  {
   "cell_type": "markdown",
   "metadata": {},
   "source": [
    "### Extras"
   ]
  },
  {
   "cell_type": "markdown",
   "metadata": {},
   "source": [
    "__Check out some of the intermediate Output__"
   ]
  },
  {
   "cell_type": "code",
   "execution_count": 11,
   "metadata": {
    "scrolled": false
   },
   "outputs": [
    {
     "data": {
      "text/html": [
       "<div>\n",
       "<table border=\"1\" class=\"dataframe\">\n",
       "  <thead>\n",
       "    <tr style=\"text-align: right;\">\n",
       "      <th></th>\n",
       "      <th>me_name</th>\n",
       "      <th>ae_name</th>\n",
       "      <th>ae_weight</th>\n",
       "      <th>sets</th>\n",
       "      <th>reps</th>\n",
       "    </tr>\n",
       "  </thead>\n",
       "  <tbody>\n",
       "    <tr>\n",
       "      <th>0</th>\n",
       "      <td>deadlift</td>\n",
       "      <td>Rows</td>\n",
       "      <td>100.0</td>\n",
       "      <td>4</td>\n",
       "      <td>10</td>\n",
       "    </tr>\n",
       "    <tr>\n",
       "      <th>1</th>\n",
       "      <td>deadlift</td>\n",
       "      <td>Pullups</td>\n",
       "      <td>0.0</td>\n",
       "      <td>4</td>\n",
       "      <td>10</td>\n",
       "    </tr>\n",
       "    <tr>\n",
       "      <th>2</th>\n",
       "      <td>deadlift</td>\n",
       "      <td>Curls</td>\n",
       "      <td>30.0</td>\n",
       "      <td>4</td>\n",
       "      <td>10</td>\n",
       "    </tr>\n",
       "  </tbody>\n",
       "</table>\n",
       "</div>"
      ],
      "text/plain": [
       "    me_name  ae_name  ae_weight  sets  reps\n",
       "0  deadlift     Rows      100.0     4    10\n",
       "1  deadlift  Pullups        0.0     4    10\n",
       "2  deadlift    Curls       30.0     4    10"
      ]
     },
     "execution_count": 11,
     "metadata": {},
     "output_type": "execute_result"
    }
   ],
   "source": [
    "workout.get_accessory().head(3)"
   ]
  },
  {
   "cell_type": "code",
   "execution_count": 12,
   "metadata": {},
   "outputs": [
    {
     "data": {
      "text/html": [
       "<div>\n",
       "<table border=\"1\" class=\"dataframe\">\n",
       "  <thead>\n",
       "    <tr style=\"text-align: right;\">\n",
       "      <th></th>\n",
       "      <th>user_id</th>\n",
       "      <th>data_start_date</th>\n",
       "      <th>data_end_date</th>\n",
       "      <th>orm_dict</th>\n",
       "      <th>publish_time</th>\n",
       "    </tr>\n",
       "  </thead>\n",
       "  <tbody>\n",
       "    <tr>\n",
       "      <th>0</th>\n",
       "      <td>1</td>\n",
       "      <td>2018-05-27</td>\n",
       "      <td>2018-06-23</td>\n",
       "      <td>{\"squat\": 240, \"deadlift\": 290, \"ohp\": 127.5, ...</td>\n",
       "      <td>2018-06-23 16:44:41.766790</td>\n",
       "    </tr>\n",
       "  </tbody>\n",
       "</table>\n",
       "</div>"
      ],
      "text/plain": [
       "   user_id data_start_date data_end_date  \\\n",
       "0        1      2018-05-27    2018-06-23   \n",
       "\n",
       "                                            orm_dict  \\\n",
       "0  {\"squat\": 240, \"deadlift\": 290, \"ohp\": 127.5, ...   \n",
       "\n",
       "                publish_time  \n",
       "0 2018-06-23 16:44:41.766790  "
      ]
     },
     "execution_count": 12,
     "metadata": {},
     "output_type": "execute_result"
    }
   ],
   "source": [
    "orm = workout.get_orm()\n",
    "orm"
   ]
  },
  {
   "cell_type": "code",
   "execution_count": 13,
   "metadata": {
    "collapsed": true
   },
   "outputs": [],
   "source": [
    "from functions.workout_funcs import get_workout\n",
    "from functions.db_funcs import retrieve_json"
   ]
  },
  {
   "cell_type": "code",
   "execution_count": 14,
   "metadata": {},
   "outputs": [
    {
     "data": {
      "text/plain": [
       "{'bench': 182.5, 'deadlift': 290, 'ohp': 127.5, 'squat': 240}"
      ]
     },
     "execution_count": 14,
     "metadata": {},
     "output_type": "execute_result"
    }
   ],
   "source": [
    "orm_dict = retrieve_json(orm, 'orm_dict')\n",
    "orm_dict"
   ]
  },
  {
   "cell_type": "code",
   "execution_count": 15,
   "metadata": {
    "scrolled": true
   },
   "outputs": [
    {
     "data": {
      "text/html": [
       "<div>\n",
       "<table border=\"1\" class=\"dataframe\">\n",
       "  <thead>\n",
       "    <tr style=\"text-align: right;\">\n",
       "      <th></th>\n",
       "      <th>week</th>\n",
       "      <th>set</th>\n",
       "      <th>reps</th>\n",
       "      <th>deadlift</th>\n",
       "      <th>squat</th>\n",
       "      <th>bench</th>\n",
       "      <th>ohp</th>\n",
       "    </tr>\n",
       "  </thead>\n",
       "  <tbody>\n",
       "    <tr>\n",
       "      <th>0</th>\n",
       "      <td>1</td>\n",
       "      <td>1</td>\n",
       "      <td>5</td>\n",
       "      <td>190</td>\n",
       "      <td>155</td>\n",
       "      <td>120</td>\n",
       "      <td>85</td>\n",
       "    </tr>\n",
       "    <tr>\n",
       "      <th>1</th>\n",
       "      <td>1</td>\n",
       "      <td>2</td>\n",
       "      <td>5</td>\n",
       "      <td>220</td>\n",
       "      <td>180</td>\n",
       "      <td>135</td>\n",
       "      <td>95</td>\n",
       "    </tr>\n",
       "    <tr>\n",
       "      <th>2</th>\n",
       "      <td>1</td>\n",
       "      <td>3</td>\n",
       "      <td>5</td>\n",
       "      <td>245</td>\n",
       "      <td>205</td>\n",
       "      <td>155</td>\n",
       "      <td>110</td>\n",
       "    </tr>\n",
       "  </tbody>\n",
       "</table>\n",
       "</div>"
      ],
      "text/plain": [
       "   week  set  reps  deadlift  squat  bench  ohp\n",
       "0     1    1     5       190    155    120   85\n",
       "1     1    2     5       220    180    135   95\n",
       "2     1    3     5       245    205    155  110"
      ]
     },
     "execution_count": 15,
     "metadata": {},
     "output_type": "execute_result"
    }
   ],
   "source": [
    "get_workout(orm_dict, [1])"
   ]
  },
  {
   "cell_type": "markdown",
   "metadata": {},
   "source": [
    "__Check out the Database__"
   ]
  },
  {
   "cell_type": "code",
   "execution_count": 16,
   "metadata": {},
   "outputs": [
    {
     "data": {
      "text/html": [
       "<div>\n",
       "<table border=\"1\" class=\"dataframe\">\n",
       "  <thead>\n",
       "    <tr style=\"text-align: right;\">\n",
       "      <th></th>\n",
       "      <th>name</th>\n",
       "    </tr>\n",
       "  </thead>\n",
       "  <tbody>\n",
       "    <tr>\n",
       "      <th>0</th>\n",
       "      <td>dim_user</td>\n",
       "    </tr>\n",
       "    <tr>\n",
       "      <th>1</th>\n",
       "      <td>dim_progression</td>\n",
       "    </tr>\n",
       "    <tr>\n",
       "      <th>2</th>\n",
       "      <td>one_rep_max</td>\n",
       "    </tr>\n",
       "    <tr>\n",
       "      <th>3</th>\n",
       "      <td>accessory</td>\n",
       "    </tr>\n",
       "    <tr>\n",
       "      <th>4</th>\n",
       "      <td>pause_workout</td>\n",
       "    </tr>\n",
       "  </tbody>\n",
       "</table>\n",
       "</div>"
      ],
      "text/plain": [
       "              name\n",
       "0         dim_user\n",
       "1  dim_progression\n",
       "2      one_rep_max\n",
       "3        accessory\n",
       "4    pause_workout"
      ]
     },
     "execution_count": 16,
     "metadata": {},
     "output_type": "execute_result"
    }
   ],
   "source": [
    "schema = pd.read_sql('SELECT name FROM sqlite_master WHERE type=\"table\";', con)\n",
    "schema"
   ]
  },
  {
   "cell_type": "code",
   "execution_count": 17,
   "metadata": {},
   "outputs": [
    {
     "data": {
      "text/html": [
       "<div>\n",
       "<table border=\"1\" class=\"dataframe\">\n",
       "  <thead>\n",
       "    <tr style=\"text-align: right;\">\n",
       "      <th></th>\n",
       "      <th>user_id</th>\n",
       "      <th>user_name</th>\n",
       "      <th>email</th>\n",
       "    </tr>\n",
       "  </thead>\n",
       "  <tbody>\n",
       "    <tr>\n",
       "      <th>0</th>\n",
       "      <td>1</td>\n",
       "      <td>mguan</td>\n",
       "      <td>email@email.com</td>\n",
       "    </tr>\n",
       "  </tbody>\n",
       "</table>\n",
       "</div>"
      ],
      "text/plain": [
       "   user_id user_name            email\n",
       "0        1     mguan  email@email.com"
      ]
     },
     "execution_count": 17,
     "metadata": {},
     "output_type": "execute_result"
    }
   ],
   "source": [
    "pd.read_sql('select * from dim_user', con)"
   ]
  },
  {
   "cell_type": "code",
   "execution_count": 18,
   "metadata": {},
   "outputs": [
    {
     "data": {
      "text/html": [
       "<div>\n",
       "<table border=\"1\" class=\"dataframe\">\n",
       "  <thead>\n",
       "    <tr style=\"text-align: right;\">\n",
       "      <th></th>\n",
       "      <th>user_id</th>\n",
       "      <th>data_start_date</th>\n",
       "      <th>data_end_date</th>\n",
       "      <th>orm_dict</th>\n",
       "      <th>publish_time</th>\n",
       "    </tr>\n",
       "  </thead>\n",
       "  <tbody>\n",
       "    <tr>\n",
       "      <th>0</th>\n",
       "      <td>1</td>\n",
       "      <td>2017-05-28</td>\n",
       "      <td>2017-06-24</td>\n",
       "      <td>{\"squat\": 165.0, \"bench\": 155.0, \"deadlift\": 2...</td>\n",
       "      <td>2018-06-23 16:44:41.766790</td>\n",
       "    </tr>\n",
       "    <tr>\n",
       "      <th>1</th>\n",
       "      <td>1</td>\n",
       "      <td>2017-06-25</td>\n",
       "      <td>2017-07-22</td>\n",
       "      <td>{\"squat\": 175.0, \"bench\": 165.0, \"deadlift\": 2...</td>\n",
       "      <td>2018-06-23 16:44:41.766790</td>\n",
       "    </tr>\n",
       "    <tr>\n",
       "      <th>2</th>\n",
       "      <td>1</td>\n",
       "      <td>2017-07-23</td>\n",
       "      <td>2017-08-19</td>\n",
       "      <td>{\"squat\": 185.0, \"bench\": 170.0, \"deadlift\": 2...</td>\n",
       "      <td>2018-06-23 16:44:41.766790</td>\n",
       "    </tr>\n",
       "    <tr>\n",
       "      <th>3</th>\n",
       "      <td>1</td>\n",
       "      <td>2017-08-20</td>\n",
       "      <td>2017-09-16</td>\n",
       "      <td>{\"squat\": 195.0, \"bench\": 185.0, \"deadlift\": 2...</td>\n",
       "      <td>2018-06-23 16:44:41.766790</td>\n",
       "    </tr>\n",
       "    <tr>\n",
       "      <th>4</th>\n",
       "      <td>1</td>\n",
       "      <td>2017-09-17</td>\n",
       "      <td>2017-10-14</td>\n",
       "      <td>{\"squat\": 205.0, \"bench\": 195.0, \"deadlift\": 2...</td>\n",
       "      <td>2018-06-23 16:44:41.766790</td>\n",
       "    </tr>\n",
       "    <tr>\n",
       "      <th>5</th>\n",
       "      <td>1</td>\n",
       "      <td>2017-10-15</td>\n",
       "      <td>2017-11-11</td>\n",
       "      <td>{\"squat\": 210.0, \"bench\": 205.0, \"deadlift\": 2...</td>\n",
       "      <td>2018-06-23 16:44:41.766790</td>\n",
       "    </tr>\n",
       "    <tr>\n",
       "      <th>6</th>\n",
       "      <td>1</td>\n",
       "      <td>2017-11-12</td>\n",
       "      <td>2017-12-09</td>\n",
       "      <td>{\"squat\": 220.0, \"bench\": 205.0, \"deadlift\": 2...</td>\n",
       "      <td>2018-06-23 16:44:41.766790</td>\n",
       "    </tr>\n",
       "    <tr>\n",
       "      <th>7</th>\n",
       "      <td>1</td>\n",
       "      <td>2017-12-10</td>\n",
       "      <td>2018-01-06</td>\n",
       "      <td>{\"squat\": 220.0, \"bench\": 205.0, \"deadlift\": 2...</td>\n",
       "      <td>2018-06-23 16:44:41.766790</td>\n",
       "    </tr>\n",
       "    <tr>\n",
       "      <th>8</th>\n",
       "      <td>1</td>\n",
       "      <td>2018-01-07</td>\n",
       "      <td>2018-02-03</td>\n",
       "      <td>{\"squat\": 220.0, \"bench\": 205.0, \"deadlift\": 2...</td>\n",
       "      <td>2018-06-23 16:44:41.766790</td>\n",
       "    </tr>\n",
       "    <tr>\n",
       "      <th>9</th>\n",
       "      <td>1</td>\n",
       "      <td>2018-02-04</td>\n",
       "      <td>2018-03-03</td>\n",
       "      <td>{\"squat\": 220.0, \"bench\": 205.0, \"deadlift\": 2...</td>\n",
       "      <td>2018-06-23 16:44:41.766790</td>\n",
       "    </tr>\n",
       "    <tr>\n",
       "      <th>10</th>\n",
       "      <td>1</td>\n",
       "      <td>2018-03-04</td>\n",
       "      <td>2018-03-31</td>\n",
       "      <td>{\"squat\": 225.0, \"bench\": 175.0, \"deadlift\": 2...</td>\n",
       "      <td>2018-06-23 16:44:41.766790</td>\n",
       "    </tr>\n",
       "    <tr>\n",
       "      <th>11</th>\n",
       "      <td>1</td>\n",
       "      <td>2018-04-01</td>\n",
       "      <td>2018-04-28</td>\n",
       "      <td>{\"squat\": 230.0, \"bench\": 177.5, \"deadlift\": 2...</td>\n",
       "      <td>2018-06-23 16:44:41.766790</td>\n",
       "    </tr>\n",
       "    <tr>\n",
       "      <th>12</th>\n",
       "      <td>1</td>\n",
       "      <td>2018-04-29</td>\n",
       "      <td>2018-05-26</td>\n",
       "      <td>{\"squat\": 235.0, \"bench\": 180.0, \"deadlift\": 2...</td>\n",
       "      <td>2018-06-23 16:44:41.766790</td>\n",
       "    </tr>\n",
       "    <tr>\n",
       "      <th>13</th>\n",
       "      <td>1</td>\n",
       "      <td>2018-05-27</td>\n",
       "      <td>2018-06-23</td>\n",
       "      <td>{\"squat\": 240, \"deadlift\": 290, \"ohp\": 127.5, ...</td>\n",
       "      <td>2018-06-23 16:44:41.766790</td>\n",
       "    </tr>\n",
       "  </tbody>\n",
       "</table>\n",
       "</div>"
      ],
      "text/plain": [
       "    user_id data_start_date data_end_date  \\\n",
       "0         1      2017-05-28    2017-06-24   \n",
       "1         1      2017-06-25    2017-07-22   \n",
       "2         1      2017-07-23    2017-08-19   \n",
       "3         1      2017-08-20    2017-09-16   \n",
       "4         1      2017-09-17    2017-10-14   \n",
       "5         1      2017-10-15    2017-11-11   \n",
       "6         1      2017-11-12    2017-12-09   \n",
       "7         1      2017-12-10    2018-01-06   \n",
       "8         1      2018-01-07    2018-02-03   \n",
       "9         1      2018-02-04    2018-03-03   \n",
       "10        1      2018-03-04    2018-03-31   \n",
       "11        1      2018-04-01    2018-04-28   \n",
       "12        1      2018-04-29    2018-05-26   \n",
       "13        1      2018-05-27    2018-06-23   \n",
       "\n",
       "                                             orm_dict  \\\n",
       "0   {\"squat\": 165.0, \"bench\": 155.0, \"deadlift\": 2...   \n",
       "1   {\"squat\": 175.0, \"bench\": 165.0, \"deadlift\": 2...   \n",
       "2   {\"squat\": 185.0, \"bench\": 170.0, \"deadlift\": 2...   \n",
       "3   {\"squat\": 195.0, \"bench\": 185.0, \"deadlift\": 2...   \n",
       "4   {\"squat\": 205.0, \"bench\": 195.0, \"deadlift\": 2...   \n",
       "5   {\"squat\": 210.0, \"bench\": 205.0, \"deadlift\": 2...   \n",
       "6   {\"squat\": 220.0, \"bench\": 205.0, \"deadlift\": 2...   \n",
       "7   {\"squat\": 220.0, \"bench\": 205.0, \"deadlift\": 2...   \n",
       "8   {\"squat\": 220.0, \"bench\": 205.0, \"deadlift\": 2...   \n",
       "9   {\"squat\": 220.0, \"bench\": 205.0, \"deadlift\": 2...   \n",
       "10  {\"squat\": 225.0, \"bench\": 175.0, \"deadlift\": 2...   \n",
       "11  {\"squat\": 230.0, \"bench\": 177.5, \"deadlift\": 2...   \n",
       "12  {\"squat\": 235.0, \"bench\": 180.0, \"deadlift\": 2...   \n",
       "13  {\"squat\": 240, \"deadlift\": 290, \"ohp\": 127.5, ...   \n",
       "\n",
       "                 publish_time  \n",
       "0  2018-06-23 16:44:41.766790  \n",
       "1  2018-06-23 16:44:41.766790  \n",
       "2  2018-06-23 16:44:41.766790  \n",
       "3  2018-06-23 16:44:41.766790  \n",
       "4  2018-06-23 16:44:41.766790  \n",
       "5  2018-06-23 16:44:41.766790  \n",
       "6  2018-06-23 16:44:41.766790  \n",
       "7  2018-06-23 16:44:41.766790  \n",
       "8  2018-06-23 16:44:41.766790  \n",
       "9  2018-06-23 16:44:41.766790  \n",
       "10 2018-06-23 16:44:41.766790  \n",
       "11 2018-06-23 16:44:41.766790  \n",
       "12 2018-06-23 16:44:41.766790  \n",
       "13 2018-06-23 16:44:41.766790  "
      ]
     },
     "execution_count": 18,
     "metadata": {},
     "output_type": "execute_result"
    }
   ],
   "source": [
    "pd.read_sql('select * from one_rep_max', con)"
   ]
  },
  {
   "cell_type": "code",
   "execution_count": 19,
   "metadata": {},
   "outputs": [
    {
     "data": {
      "text/html": [
       "<div>\n",
       "<table border=\"1\" class=\"dataframe\">\n",
       "  <thead>\n",
       "    <tr style=\"text-align: right;\">\n",
       "      <th></th>\n",
       "      <th>user_id</th>\n",
       "      <th>prog_dict</th>\n",
       "    </tr>\n",
       "  </thead>\n",
       "  <tbody>\n",
       "    <tr>\n",
       "      <th>0</th>\n",
       "      <td>1</td>\n",
       "      <td>{\"squat\": 2.5, \"deadlift\": 2.5, \"ohp\": 0, \"ben...</td>\n",
       "    </tr>\n",
       "  </tbody>\n",
       "</table>\n",
       "</div>"
      ],
      "text/plain": [
       "   user_id                                          prog_dict\n",
       "0        1  {\"squat\": 2.5, \"deadlift\": 2.5, \"ohp\": 0, \"ben..."
      ]
     },
     "execution_count": 19,
     "metadata": {},
     "output_type": "execute_result"
    }
   ],
   "source": [
    "pd.read_sql('select * from dim_progression', con)"
   ]
  },
  {
   "cell_type": "markdown",
   "metadata": {},
   "source": [
    " "
   ]
  }
 ],
 "metadata": {
  "kernelspec": {
   "display_name": "Python 3",
   "language": "python",
   "name": "python3"
  },
  "language_info": {
   "codemirror_mode": {
    "name": "ipython",
    "version": 3
   },
   "file_extension": ".py",
   "mimetype": "text/x-python",
   "name": "python",
   "nbconvert_exporter": "python",
   "pygments_lexer": "ipython3",
   "version": "3.6.5"
  }
 },
 "nbformat": 4,
 "nbformat_minor": 2
}
